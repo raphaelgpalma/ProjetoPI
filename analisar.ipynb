{
 "cells": [
  {
   "cell_type": "code",
   "execution_count": 62,
   "id": "4b946fbb",
   "metadata": {},
   "outputs": [
    {
     "data": {
      "text/html": [
       "<div>\n",
       "<style scoped>\n",
       "    .dataframe tbody tr th:only-of-type {\n",
       "        vertical-align: middle;\n",
       "    }\n",
       "\n",
       "    .dataframe tbody tr th {\n",
       "        vertical-align: top;\n",
       "    }\n",
       "\n",
       "    .dataframe thead th {\n",
       "        text-align: right;\n",
       "    }\n",
       "</style>\n",
       "<table border=\"1\" class=\"dataframe\">\n",
       "  <thead>\n",
       "    <tr style=\"text-align: right;\">\n",
       "      <th></th>\n",
       "      <th>Nome</th>\n",
       "      <th>Preco</th>\n",
       "      <th>Quantidade</th>\n",
       "    </tr>\n",
       "  </thead>\n",
       "  <tbody>\n",
       "    <tr>\n",
       "      <th>0</th>\n",
       "      <td>banana</td>\n",
       "      <td>2.0</td>\n",
       "      <td>10</td>\n",
       "    </tr>\n",
       "    <tr>\n",
       "      <th>1</th>\n",
       "      <td>limao</td>\n",
       "      <td>3.0</td>\n",
       "      <td>10</td>\n",
       "    </tr>\n",
       "    <tr>\n",
       "      <th>2</th>\n",
       "      <td>abacaxi</td>\n",
       "      <td>15.0</td>\n",
       "      <td>2</td>\n",
       "    </tr>\n",
       "    <tr>\n",
       "      <th>3</th>\n",
       "      <td>uva</td>\n",
       "      <td>6.0</td>\n",
       "      <td>4</td>\n",
       "    </tr>\n",
       "  </tbody>\n",
       "</table>\n",
       "</div>"
      ],
      "text/plain": [
       "      Nome  Preco  Quantidade\n",
       "0   banana    2.0          10\n",
       "1    limao    3.0          10\n",
       "2  abacaxi   15.0           2\n",
       "3      uva    6.0           4"
      ]
     },
     "execution_count": 62,
     "metadata": {},
     "output_type": "execute_result"
    }
   ],
   "source": [
    "import sqlite3\n",
    "import pandas as pd\n",
    "\n",
    "\n",
    "conn = sqlite3.connect('produtos.db')\n",
    "\n",
    "consulta = \"SELECT * FROM produtos\"\n",
    "\n",
    "df = pd.read_sql_query(consulta, conn)\n",
    "\n",
    "conn.close()\n",
    "\n",
    "df.head()"
   ]
  },
  {
   "cell_type": "code",
   "execution_count": 58,
   "id": "6a9f1d3e",
   "metadata": {},
   "outputs": [],
   "source": [
    "import matplotlib.pyplot as plt\n",
    "import seaborn as sns"
   ]
  },
  {
   "cell_type": "code",
   "execution_count": 63,
   "id": "8ff8486d",
   "metadata": {},
   "outputs": [
    {
     "data": {
      "image/png": "[encoded data removed]",
      "text/plain": [
       "<Figure size 1600x600 with 1 Axes>"
      ]
     },
     "metadata": {},
     "output_type": "display_data"
    }
   ],
   "source": [
    "\n",
    "\n",
    "plt.figure(figsize=(16, 6))\n",
    "sns.barplot(x = df[\"Nome\"],y= df['Quantidade'],width=0.5,color= 'indigo')\n",
    "\n",
    "plt.xlabel('Produtos')\n",
    "plt.ylabel('Quantidade')\n",
    "plt.title('Quantidade de Produtos')\n",
    "\n",
    "plt.show()\n",
    "\n"
   ]
  },
  {
   "cell_type": "code",
   "execution_count": 53,
   "id": "e028f25c",
   "metadata": {},
   "outputs": [
    {
     "name": "stdout",
     "output_type": "stream",
     "text": [
      "$2b$12$vSYL61tsv26P/RnFN5UmhumZwwQbBVDP0eTx6Scu0rzPaOU1c9fOe\n"
     ]
    }
   ],
   "source": [
    "import bcrypt\n",
    "\n",
    "# Função para criptografar a senha\n",
    "def criptografar_senha(senha):\n",
    "    # Gerar um salt aleatório\n",
    "    salt = bcrypt.gensalt()\n",
    "\n",
    "    # Criptografar a senha usando o salt\n",
    "    senha_criptografada = bcrypt.hashpw(senha.encode('utf-8'), salt)\n",
    "\n",
    "    return senha_criptografada\n",
    "\n",
    "# Exemplo de uso\n",
    "senha = \"MinhaSenha123\"\n",
    "senha_criptografada = criptografar_senha(senha)\n",
    "\n",
    "# Imprimir a senha criptografada\n",
    "print(senha_criptografada.decode('utf-8'))\n"
   ]
  },
  {
   "cell_type": "code",
   "execution_count": 60,
   "id": "ab23eb9b",
   "metadata": {},
   "outputs": [
    {
     "name": "stdout",
     "output_type": "stream",
     "text": [
      "Digite um numero: 2\n",
      "Digite um numero: 3\n",
      "A soma dos dois numeros e de:  5.0\n"
     ]
    }
   ],
   "source": [
    "def soma(a, b):\n",
    "    soma = a + b\n",
    "    return soma\n",
    "a = float(input(\"Digite um numero: \"))\n",
    "b = float(input(\"Digite um numero: \"))\n",
    "print('A soma dos dois numeros e de: ',soma(a,b))"
   ]
  },
  {
   "cell_type": "code",
   "execution_count": 61,
   "id": "e7d14ee0",
   "metadata": {},
   "outputs": [
    {
     "name": "stdout",
     "output_type": "stream",
     "text": [
      "Digite um número: 1\n",
      "Digite um número: 2\n",
      "A soma dos dois números é: 3.0\n"
     ]
    }
   ],
   "source": [
    "def soma(a, b):\n",
    "    soma = a + b\n",
    "    return soma\n",
    "\n",
    "if __name__ == \"__main__\":\n",
    "    a = float(input(\"Digite um número: \"))\n",
    "    b = float(input(\"Digite um número: \"))\n",
    "    print('A soma dos dois números é:', soma(a, b))\n"
   ]
  },
  {
   "cell_type": "code",
   "execution_count": null,
   "id": "382fa84c",
   "metadata": {},
   "outputs": [],
   "source": []
  }
 ],
 "metadata": {
  "kernelspec": {
   "display_name": "Python 3 (ipykernel)",
   "language": "python",
   "name": "python3"
  },
  "language_info": {
   "codemirror_mode": {
    "name": "ipython",
    "version": 3
   },
   "file_extension": ".py",
   "mimetype": "text/x-python",
   "name": "python",
   "nbconvert_exporter": "python",
   "pygments_lexer": "ipython3",
   "version": "3.10.9"
  }
 },
 "nbformat": 4,
 "nbformat_minor": 5
}
